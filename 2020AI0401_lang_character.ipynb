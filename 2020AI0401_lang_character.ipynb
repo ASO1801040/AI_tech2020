{
  "nbformat": 4,
  "nbformat_minor": 0,
  "metadata": {
    "colab": {
      "name": "2020AI0401_lang_character.ipynb",
      "provenance": [],
      "collapsed_sections": [],
      "authorship_tag": "ABX9TyPB7QIO+D4AlhQ2xduHHCfF",
      "include_colab_link": true
    },
    "kernelspec": {
      "name": "python3",
      "display_name": "Python 3"
    }
  },
  "cells": [
    {
      "cell_type": "markdown",
      "metadata": {
        "id": "view-in-github",
        "colab_type": "text"
      },
      "source": [
        "<a href=\"https://colab.research.google.com/github/ASO1801040/AI_tech2020/blob/master/2020AI0401_lang_character.ipynb\" target=\"_parent\"><img src=\"https://colab.research.google.com/assets/colab-badge.svg\" alt=\"Open In Colab\"/></a>"
      ]
    },
    {
      "cell_type": "code",
      "metadata": {
        "id": "zaPqmMCIjier"
      },
      "source": [
        "import numpy as np\n",
        "from sklearn.naive_bayes import GaussianNB\n",
        "from sklearn.metrics import accuracy_score"
      ],
      "execution_count": 8,
      "outputs": []
    },
    {
      "cell_type": "code",
      "metadata": {
        "id": "Qm2B7MwMjpBJ"
      },
      "source": [
        "def count_codePoint(str):\n",
        "  counter = np.zeros(65535)\n",
        "  for i in range( len(str) ):\n",
        "    code_point  = ord(str[i])\n",
        "    if code_point > 65535:\n",
        "      continue    \n",
        "    counter[code_point] += 1\n",
        "  counter = counter / len(str)\n",
        "  return counter"
      ],
      "execution_count": 9,
      "outputs": []
    },
    {
      "cell_type": "code",
      "metadata": {
        "id": "cps3qlgnj4Nj"
      },
      "source": [
        "ja_str = \"これは日本語の文章です。\"\n",
        "en_str = \"This is English Sentences.\"\n",
        "th_str = \"นี่เป็นประโยคภาษาไทย\"\n",
        "x_train = [count_codePoint(ja_str), count_codePoint(en_str), count_codePoint(th_str)]\n",
        "y_train = ['ja', 'en', 'th']"
      ],
      "execution_count": 10,
      "outputs": []
    },
    {
      "cell_type": "code",
      "metadata": {
        "id": "EhoWCtA0j9QP",
        "colab": {
          "base_uri": "https://localhost:8080/"
        },
        "outputId": "b98464ab-9b0b-4f67-fd9a-d11b62b96b29"
      },
      "source": [
        "clf = GaussianNB()\n",
        "clf.fit(x_train, y_train)"
      ],
      "execution_count": 11,
      "outputs": [
        {
          "output_type": "execute_result",
          "data": {
            "text/plain": [
              "GaussianNB(priors=None, var_smoothing=1e-09)"
            ]
          },
          "metadata": {
            "tags": []
          },
          "execution_count": 11
        }
      ]
    },
    {
      "cell_type": "code",
      "metadata": {
        "id": "Jjfcd9ySkAH2"
      },
      "source": [
        "ja_test_str = \"こんにちは\"\n",
        "en_test_str = \"Hello\"\n",
        "th_test_str = \"สวัสดี\"\n",
        "\n",
        "x_test = [count_codePoint(ja_test_str), count_codePoint(en_test_str), count_codePoint(th_test_str)]\n",
        "y_test = ['ja', 'en', 'th']"
      ],
      "execution_count": 12,
      "outputs": []
    },
    {
      "cell_type": "code",
      "metadata": {
        "id": "m482_ELgkEu6",
        "colab": {
          "base_uri": "https://localhost:8080/"
        },
        "outputId": "f489f706-6b9d-4748-8f07-36a4d28167f5"
      },
      "source": [
        "y_pred = clf.predict(x_test)\n",
        "print(\"1つめの文章の言語は\", y_pred[0],\"です\")\n",
        "print(\"2つめの文章の言語は\", y_pred[1],\"です\")\n",
        "print(\"3つめの文章の言語は\", y_pred[2],\"です\")\n",
        "print(\"正解率：\", accuracy_score(y_test, y_pred))"
      ],
      "execution_count": 13,
      "outputs": [
        {
          "output_type": "stream",
          "text": [
            "1つめの文章の言語は ja です\n",
            "2つめの文章の言語は en です\n",
            "3つめの文章の言語は th です\n",
            "正解率： 1.0\n"
          ],
          "name": "stdout"
        }
      ]
    },
    {
      "cell_type": "code",
      "metadata": {
        "id": "VP8HDRQwkHLe",
        "colab": {
          "base_uri": "https://localhost:8080/"
        },
        "outputId": "fcc78960-2e73-4b17-b9d8-bbd3f1d34d3b"
      },
      "source": [
        "import urllib.request as req\n",
        "\n",
        "url = \"https://github.com/masatokg/sample_photo/raw/master/train.zip\"\n",
        "save_file = \"train.zip\"\n",
        "req.urlretrieve( url, save_file )\n",
        "\n",
        "url = \"https://github.com/masatokg/sample_photo/raw/master/test.zip\"\n",
        "save_file = \"test.zip\"\n",
        "req.urlretrieve( url, save_file )\n",
        "\n",
        "!unzip -o -q \"./train.zip\"\n",
        "print(\"train.zip解凍\")\n",
        "!unzip -o -q \"./test.zip\"\n",
        "print(\"test.zip解凍\")"
      ],
      "execution_count": 14,
      "outputs": [
        {
          "output_type": "stream",
          "text": [
            "train.zip解凍\n",
            "test.zip解凍\n"
          ],
          "name": "stdout"
        }
      ]
    },
    {
      "cell_type": "code",
      "metadata": {
        "id": "ztIbA99RkLwH",
        "colab": {
          "base_uri": "https://localhost:8080/"
        },
        "outputId": "37352c6f-8eff-41ae-a0f2-5a19c555fade"
      },
      "source": [
        "import glob\n",
        "\n",
        "\n",
        "index = 0\n",
        "x_train = []\n",
        "y_train = [] \n",
        "for file in glob.glob( \"./train/*.txt\" ): \n",
        "  y_train.append( file[8:10] )\n",
        "  print(\"ファイルパスの一部をラベルにする:\", file, \" = \", file[8:10] )\n",
        "  file_str = \"\"\n",
        "  for line in open( file, 'r' ):\n",
        "    file_str = ( file_str + line )\n",
        "  x_train.append( count_codePoint( file_str ) )"
      ],
      "execution_count": 15,
      "outputs": [
        {
          "output_type": "stream",
          "text": [
            "ファイルパスの一部をラベルにする: ./train/de_cat.txt  =  de\n",
            "ファイルパスの一部をラベルにする: ./train/es_cat.txt  =  es\n",
            "ファイルパスの一部をラベルにする: ./train/es_elephant.txt  =  es\n",
            "ファイルパスの一部をラベルにする: ./train/es_dog.txt  =  es\n",
            "ファイルパスの一部をラベルにする: ./train/en_elephant.txt  =  en\n",
            "ファイルパスの一部をラベルにする: ./train/de_elephant.txt  =  de\n",
            "ファイルパスの一部をラベルにする: ./train/de_dog.txt  =  de\n",
            "ファイルパスの一部をラベルにする: ./train/en_cat.txt  =  en\n",
            "ファイルパスの一部をラベルにする: ./train/en_dog.txt  =  en\n"
          ],
          "name": "stdout"
        }
      ]
    },
    {
      "cell_type": "code",
      "metadata": {
        "id": "jrpS-cKWkYtX",
        "colab": {
          "base_uri": "https://localhost:8080/"
        },
        "outputId": "47032eb8-30d8-4963-8932-04529d949ea0"
      },
      "source": [
        "clf = GaussianNB()\n",
        "clf.fit( x_train, y_train )"
      ],
      "execution_count": 16,
      "outputs": [
        {
          "output_type": "execute_result",
          "data": {
            "text/plain": [
              "GaussianNB(priors=None, var_smoothing=1e-09)"
            ]
          },
          "metadata": {
            "tags": []
          },
          "execution_count": 16
        }
      ]
    },
    {
      "cell_type": "code",
      "metadata": {
        "id": "i6k0cMs6kbzb",
        "colab": {
          "base_uri": "https://localhost:8080/"
        },
        "outputId": "e0ad76a7-4715-4f85-8a2c-933146828315"
      },
      "source": [
        "index = 0\n",
        "x_test = [] \n",
        "y_test = [] \n",
        "\n",
        "for file in glob.glob( \"./test/*.txt\" ):\n",
        "\n",
        "  y_test.append( file[7:9] )\n",
        "  print(\"ファイルパスの一部をラベルにする:\", file, \" = \", file[7:9])\n",
        "\n",
        "  file_str = \"\"\n",
        "  for line in open( file, 'r' ):\n",
        "    file_str = file_str + line\n",
        "  x_test.append( count_codePoint( file_str ) )"
      ],
      "execution_count": 17,
      "outputs": [
        {
          "output_type": "stream",
          "text": [
            "ファイルパスの一部をラベルにする: ./test/en_lion.txt  =  en\n",
            "ファイルパスの一部をラベルにする: ./test/de_lion.txt  =  de\n",
            "ファイルパスの一部をラベルにする: ./test/es_lion.txt  =  es\n"
          ],
          "name": "stdout"
        }
      ]
    }
  ]
}