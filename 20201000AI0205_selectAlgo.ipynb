{
  "nbformat": 4,
  "nbformat_minor": 0,
  "metadata": {
    "colab": {
      "name": "20201000AI0205-selectAlgo.ipynb",
      "provenance": [],
      "authorship_tag": "ABX9TyPv6w+7hdfsmeK+Fzpyvjb8",
      "include_colab_link": true
    },
    "kernelspec": {
      "name": "python3",
      "display_name": "Python 3"
    }
  },
  "cells": [
    {
      "cell_type": "markdown",
      "metadata": {
        "id": "view-in-github",
        "colab_type": "text"
      },
      "source": [
        "<a href=\"https://colab.research.google.com/github/ASO1801040/AI_tech2020/blob/master/20201000AI0205_selectAlgo.ipynb\" target=\"_parent\"><img src=\"https://colab.research.google.com/assets/colab-badge.svg\" alt=\"Open In Colab\"/></a>"
      ]
    },
    {
      "cell_type": "code",
      "metadata": {
        "id": "ZnHzksDquL4h"
      },
      "source": [
        "import pandas as pd\n",
        "from sklearn.model_selection import train_test_split\n",
        "from sklearn.metrics import accuracy_score\n",
        "from sklearn.utils.testing import all_estimators\n",
        "import warnings\n",
        "from sklearn.model_selection import GridSearchCV\n",
        "from sklearn.svm import SVC"
      ],
      "execution_count": 37,
      "outputs": []
    },
    {
      "cell_type": "code",
      "metadata": {
        "id": "7bsF3xqKu7fI",
        "outputId": "7e5a3986-f4af-4829-c33e-5a7fe4c54ac0",
        "colab": {
          "base_uri": "https://localhost:8080/"
        }
      },
      "source": [
        "import urllib.request as req\n",
        "url = \"https://github.com/pandas-dev/pandas/raw/master/pandas/tests/io/data/csv/iris.csv\"\n",
        "savefile = \"iris.csv\"\n",
        "req.urlretrieve(url, savefile)\n",
        "iris_data = pd.read_csv(savefile, encoding=\"utf-8\")\n",
        "iris_data.head"
      ],
      "execution_count": 38,
      "outputs": [
        {
          "output_type": "execute_result",
          "data": {
            "text/plain": [
              "<bound method NDFrame.head of      SepalLength  SepalWidth  PetalLength  PetalWidth            Name\n",
              "0            5.1         3.5          1.4         0.2     Iris-setosa\n",
              "1            4.9         3.0          1.4         0.2     Iris-setosa\n",
              "2            4.7         3.2          1.3         0.2     Iris-setosa\n",
              "3            4.6         3.1          1.5         0.2     Iris-setosa\n",
              "4            5.0         3.6          1.4         0.2     Iris-setosa\n",
              "..           ...         ...          ...         ...             ...\n",
              "145          6.7         3.0          5.2         2.3  Iris-virginica\n",
              "146          6.3         2.5          5.0         1.9  Iris-virginica\n",
              "147          6.5         3.0          5.2         2.0  Iris-virginica\n",
              "148          6.2         3.4          5.4         2.3  Iris-virginica\n",
              "149          5.9         3.0          5.1         1.8  Iris-virginica\n",
              "\n",
              "[150 rows x 5 columns]>"
            ]
          },
          "metadata": {
            "tags": []
          },
          "execution_count": 38
        }
      ]
    },
    {
      "cell_type": "code",
      "metadata": {
        "id": "CpaIDgQ85AAw",
        "outputId": "58740296-98c7-4ffd-d8a2-b0665731ee3a",
        "colab": {
          "base_uri": "https://localhost:8080/"
        }
      },
      "source": [
        "y = iris_data.loc[:,\"Name\"]\n",
        "x = iris_data.loc[:,[\"SepalLength\",\"SepalWidth\",\"PetalLength\",\"PetalWidth\"]]\n",
        "\n",
        "print(y.head)\n",
        "print(x.head)"
      ],
      "execution_count": 39,
      "outputs": [
        {
          "output_type": "stream",
          "text": [
            "<bound method NDFrame.head of 0         Iris-setosa\n",
            "1         Iris-setosa\n",
            "2         Iris-setosa\n",
            "3         Iris-setosa\n",
            "4         Iris-setosa\n",
            "            ...      \n",
            "145    Iris-virginica\n",
            "146    Iris-virginica\n",
            "147    Iris-virginica\n",
            "148    Iris-virginica\n",
            "149    Iris-virginica\n",
            "Name: Name, Length: 150, dtype: object>\n",
            "<bound method NDFrame.head of      SepalLength  SepalWidth  PetalLength  PetalWidth\n",
            "0            5.1         3.5          1.4         0.2\n",
            "1            4.9         3.0          1.4         0.2\n",
            "2            4.7         3.2          1.3         0.2\n",
            "3            4.6         3.1          1.5         0.2\n",
            "4            5.0         3.6          1.4         0.2\n",
            "..           ...         ...          ...         ...\n",
            "145          6.7         3.0          5.2         2.3\n",
            "146          6.3         2.5          5.0         1.9\n",
            "147          6.5         3.0          5.2         2.0\n",
            "148          6.2         3.4          5.4         2.3\n",
            "149          5.9         3.0          5.1         1.8\n",
            "\n",
            "[150 rows x 4 columns]>\n"
          ],
          "name": "stdout"
        }
      ]
    },
    {
      "cell_type": "code",
      "metadata": {
        "id": "WQ9ttzME5dGc",
        "outputId": "73e6a3f9-3db6-4a98-e225-b88a84e4953a",
        "colab": {
          "base_uri": "https://localhost:8080/"
        }
      },
      "source": [
        "x_train, x_test, y_train, y_test = train_test_split(x,y,test_size = 0.2, train_size = 0.8, shuffle = True)\n",
        "print(x_train.head)\n",
        "print(x_test.head)\n",
        "print(y_train.head)\n",
        "print(y_test.head)"
      ],
      "execution_count": 40,
      "outputs": [
        {
          "output_type": "stream",
          "text": [
            "<bound method NDFrame.head of      SepalLength  SepalWidth  PetalLength  PetalWidth\n",
            "140          6.7         3.1          5.6         2.4\n",
            "116          6.5         3.0          5.5         1.8\n",
            "85           6.0         3.4          4.5         1.6\n",
            "47           4.6         3.2          1.4         0.2\n",
            "138          6.0         3.0          4.8         1.8\n",
            "..           ...         ...          ...         ...\n",
            "22           4.6         3.6          1.0         0.2\n",
            "41           4.5         2.3          1.3         0.3\n",
            "76           6.8         2.8          4.8         1.4\n",
            "105          7.6         3.0          6.6         2.1\n",
            "107          7.3         2.9          6.3         1.8\n",
            "\n",
            "[120 rows x 4 columns]>\n",
            "<bound method NDFrame.head of      SepalLength  SepalWidth  PetalLength  PetalWidth\n",
            "103          6.3         2.9          5.6         1.8\n",
            "35           5.0         3.2          1.2         0.2\n",
            "86           6.7         3.1          4.7         1.5\n",
            "109          7.2         3.6          6.1         2.5\n",
            "33           5.5         4.2          1.4         0.2\n",
            "62           6.0         2.2          4.0         1.0\n",
            "131          7.9         3.8          6.4         2.0\n",
            "67           5.8         2.7          4.1         1.0\n",
            "114          5.8         2.8          5.1         2.4\n",
            "36           5.5         3.5          1.3         0.2\n",
            "112          6.8         3.0          5.5         2.1\n",
            "51           6.4         3.2          4.5         1.5\n",
            "147          6.5         3.0          5.2         2.0\n",
            "74           6.4         2.9          4.3         1.3\n",
            "64           5.6         2.9          3.6         1.3\n",
            "144          6.7         3.3          5.7         2.5\n",
            "149          5.9         3.0          5.1         1.8\n",
            "130          7.4         2.8          6.1         1.9\n",
            "124          6.7         3.3          5.7         2.1\n",
            "10           5.4         3.7          1.5         0.2\n",
            "46           5.1         3.8          1.6         0.2\n",
            "117          7.7         3.8          6.7         2.2\n",
            "8            4.4         2.9          1.4         0.2\n",
            "58           6.6         2.9          4.6         1.3\n",
            "84           5.4         3.0          4.5         1.5\n",
            "3            4.6         3.1          1.5         0.2\n",
            "9            4.9         3.1          1.5         0.1\n",
            "21           5.1         3.7          1.5         0.4\n",
            "126          6.2         2.8          4.8         1.8\n",
            "65           6.7         3.1          4.4         1.4>\n",
            "<bound method NDFrame.head of 140     Iris-virginica\n",
            "116     Iris-virginica\n",
            "85     Iris-versicolor\n",
            "47         Iris-setosa\n",
            "138     Iris-virginica\n",
            "            ...       \n",
            "22         Iris-setosa\n",
            "41         Iris-setosa\n",
            "76     Iris-versicolor\n",
            "105     Iris-virginica\n",
            "107     Iris-virginica\n",
            "Name: Name, Length: 120, dtype: object>\n",
            "<bound method NDFrame.head of 103     Iris-virginica\n",
            "35         Iris-setosa\n",
            "86     Iris-versicolor\n",
            "109     Iris-virginica\n",
            "33         Iris-setosa\n",
            "62     Iris-versicolor\n",
            "131     Iris-virginica\n",
            "67     Iris-versicolor\n",
            "114     Iris-virginica\n",
            "36         Iris-setosa\n",
            "112     Iris-virginica\n",
            "51     Iris-versicolor\n",
            "147     Iris-virginica\n",
            "74     Iris-versicolor\n",
            "64     Iris-versicolor\n",
            "144     Iris-virginica\n",
            "149     Iris-virginica\n",
            "130     Iris-virginica\n",
            "124     Iris-virginica\n",
            "10         Iris-setosa\n",
            "46         Iris-setosa\n",
            "117     Iris-virginica\n",
            "8          Iris-setosa\n",
            "58     Iris-versicolor\n",
            "84     Iris-versicolor\n",
            "3          Iris-setosa\n",
            "9          Iris-setosa\n",
            "21         Iris-setosa\n",
            "126     Iris-virginica\n",
            "65     Iris-versicolor\n",
            "Name: Name, dtype: object>\n"
          ],
          "name": "stdout"
        }
      ]
    },
    {
      "cell_type": "code",
      "metadata": {
        "id": "7_GMabYT50EW"
      },
      "source": [
        "allAlgorithms = all_estimators(type_filter=\"classifier\")\n",
        "warnings.filterwarnings('ignore')"
      ],
      "execution_count": 41,
      "outputs": []
    },
    {
      "cell_type": "code",
      "metadata": {
        "id": "Mr1a-BzMmdCy"
      },
      "source": [
        "from sklearn.model_selection import KFold\n",
        "from sklearn.model_selection import cross_val_score"
      ],
      "execution_count": 42,
      "outputs": []
    },
    {
      "cell_type": "code",
      "metadata": {
        "id": "x7JZf5FFnYrB",
        "outputId": "52765d08-dee4-46f7-efc8-55dfd05240ba",
        "colab": {
          "base_uri": "https://localhost:8080/"
        }
      },
      "source": [
        "Kfold_cv = KFold( n_splits = 5 , shuffle=True)\n",
        "\n",
        "for(name , algorithm) in allAlgorithms:\n",
        "  try:\n",
        "    clf = algorithm()\n",
        "    if hasattr(clf,\"score\"):\n",
        "      scores = cross_val_score(clf, x, y, cv=Kfold_cv)\n",
        "      print(name,'の正解率=')\n",
        "      print(scores)\n",
        "\n",
        "  except Exception as e:\n",
        "    print(e)"
      ],
      "execution_count": 43,
      "outputs": [
        {
          "output_type": "stream",
          "text": [
            "AdaBoostClassifier の正解率=\n",
            "[0.96666667 0.93333333 1.         0.96666667 0.9       ]\n",
            "BaggingClassifier の正解率=\n",
            "[0.93333333 0.9        0.96666667 0.96666667 1.        ]\n",
            "BernoulliNB の正解率=\n",
            "[0.23333333 0.16666667 0.3        0.26666667 0.16666667]\n",
            "CalibratedClassifierCV の正解率=\n",
            "[0.86666667 0.96666667 0.8        0.93333333 0.93333333]\n",
            "CategoricalNB の正解率=\n",
            "[0.86666667 0.93333333 0.93333333 0.96666667 0.93333333]\n",
            "CheckingClassifier の正解率=\n",
            "[nan nan nan nan nan]\n",
            "__init__() missing 1 required positional argument: 'base_estimator'\n",
            "ComplementNB の正解率=\n",
            "[0.56666667 0.7        0.7        0.66666667 0.7       ]\n",
            "DecisionTreeClassifier の正解率=\n",
            "[0.93333333 0.93333333 0.93333333 0.96666667 0.96666667]\n",
            "DummyClassifier の正解率=\n",
            "[0.4 0.3 0.4 0.2 0.3]\n",
            "ExtraTreeClassifier の正解率=\n",
            "[0.96666667 0.93333333 0.96666667 0.96666667 0.83333333]\n",
            "ExtraTreesClassifier の正解率=\n",
            "[0.96666667 0.93333333 0.93333333 0.96666667 0.96666667]\n",
            "GaussianNB の正解率=\n",
            "[1.         0.96666667 1.         0.93333333 0.86666667]\n",
            "GaussianProcessClassifier の正解率=\n",
            "[1.         0.96666667 0.9        0.96666667 0.96666667]\n",
            "GradientBoostingClassifier の正解率=\n",
            "[0.96666667 0.9        1.         0.93333333 1.        ]\n",
            "HistGradientBoostingClassifier の正解率=\n",
            "[0.96666667 0.96666667 0.93333333 0.9        1.        ]\n",
            "KNeighborsClassifier の正解率=\n",
            "[0.9        1.         0.93333333 0.96666667 1.        ]\n",
            "LabelPropagation の正解率=\n",
            "[0.93333333 0.9        1.         1.         1.        ]\n",
            "LabelSpreading の正解率=\n",
            "[0.96666667 0.96666667 0.96666667 0.9        1.        ]\n",
            "LinearDiscriminantAnalysis の正解率=\n",
            "[1.         1.         0.93333333 1.         0.96666667]\n",
            "LinearSVC の正解率=\n",
            "[0.93333333 0.96666667 0.93333333 0.96666667 0.96666667]\n",
            "LogisticRegression の正解率=\n",
            "[0.93333333 0.96666667 1.         0.93333333 1.        ]\n",
            "LogisticRegressionCV の正解率=\n",
            "[0.86666667 0.96666667 0.96666667 1.         0.96666667]\n",
            "MLPClassifier の正解率=\n",
            "[0.93333333 1.         0.96666667 1.         0.96666667]\n",
            "__init__() missing 1 required positional argument: 'estimator'\n",
            "MultinomialNB の正解率=\n",
            "[0.96666667 0.96666667 0.63333333 0.96666667 0.83333333]\n",
            "NearestCentroid の正解率=\n",
            "[0.83333333 0.96666667 0.86666667 0.93333333 0.96666667]\n",
            "NuSVC の正解率=\n",
            "[0.96666667 1.         0.9        0.96666667 0.96666667]\n",
            "__init__() missing 1 required positional argument: 'estimator'\n",
            "__init__() missing 1 required positional argument: 'estimator'\n",
            "__init__() missing 1 required positional argument: 'estimator'\n",
            "PassiveAggressiveClassifier の正解率=\n",
            "[0.96666667 0.83333333 0.93333333 0.7        0.86666667]\n",
            "Perceptron の正解率=\n",
            "[0.8        0.93333333 0.7        0.93333333 0.93333333]\n",
            "QuadraticDiscriminantAnalysis の正解率=\n",
            "[0.96666667 0.96666667 1.         0.96666667 0.96666667]\n",
            "RadiusNeighborsClassifier の正解率=\n",
            "[0.93333333 1.         0.93333333 0.96666667 0.86666667]\n",
            "RandomForestClassifier の正解率=\n",
            "[0.93333333 0.86666667 0.96666667 0.96666667 1.        ]\n",
            "RidgeClassifier の正解率=\n",
            "[0.9        0.86666667 0.83333333 0.83333333 0.83333333]\n",
            "RidgeClassifierCV の正解率=\n",
            "[0.73333333 0.9        0.86666667 0.63333333 0.86666667]\n",
            "SGDClassifier の正解率=\n",
            "[0.93333333 0.96666667 0.93333333 0.93333333 0.93333333]\n",
            "SVC の正解率=\n",
            "[1.         0.93333333 0.9        0.96666667 1.        ]\n",
            "__init__() missing 1 required positional argument: 'estimators'\n",
            "__init__() missing 1 required positional argument: 'estimators'\n"
          ],
          "name": "stdout"
        }
      ]
    },
    {
      "cell_type": "code",
      "metadata": {
        "id": "2LmjMEuz90h7",
        "outputId": "ac1aa62d-f40c-40c7-b817-7f2f629cb711",
        "colab": {
          "base_uri": "https://localhost:8080/"
        }
      },
      "source": [
        "parameters = [\n",
        "              {'C':[1,10,100,1000],\"kernel\":[\"linear\"]},\n",
        "              {'C':[1,10,100,1000],\"kernel\":[\"rbf\"],\"gamma\":[0.001,0.0001]},\n",
        "              {'C':[1,10,100,1000],\"kernel\":[\"sigmoid\"],\"gamma\":[0.001,0.0001]}\n",
        "]\n",
        "\n",
        "clf = SVC()\n",
        "clf.fit(x_train,y_train)\n",
        "y_pred = clf.predict(x_test)\n",
        "print(\"普通の学習の正解率　=\", accuracy_score(y_test, y_pred))\n",
        "\n",
        "kfold_cv = KFold( n_splits=5, shuffle=True)\n",
        "clf_grid = GridSearchCV( SVC(), parameters, cv = kfold_cv)\n",
        "clf_grid.fit(x_train, y_train)\n",
        "print(\"最適なパラメーター = \", clf_grid.best_estimator_)\n",
        "\n",
        "y_pred = clf_grid.predict(x_test)\n",
        "print(\"グリッドサーチの正解率 = \", accuracy_score(y_test, y_pred))"
      ],
      "execution_count": 44,
      "outputs": [
        {
          "output_type": "stream",
          "text": [
            "普通の学習の正解率　= 1.0\n",
            "最適なパラメーター =  SVC(C=1, break_ties=False, cache_size=200, class_weight=None, coef0=0.0,\n",
            "    decision_function_shape='ovr', degree=3, gamma='scale', kernel='linear',\n",
            "    max_iter=-1, probability=False, random_state=None, shrinking=True,\n",
            "    tol=0.001, verbose=False)\n",
            "グリッドサーチの正解率 =  1.0\n"
          ],
          "name": "stdout"
        }
      ]
    },
    {
      "cell_type": "code",
      "metadata": {
        "id": "hSjBoUWUFOit"
      },
      "source": [
        "import numpy as np"
      ],
      "execution_count": 45,
      "outputs": []
    },
    {
      "cell_type": "code",
      "metadata": {
        "id": "yyAxsj1CFRRS",
        "outputId": "60dcdc26-c6af-4c7b-cc35-91ac5d3ba3aa",
        "colab": {
          "base_uri": "https://localhost:8080/"
        }
      },
      "source": [
        "a = np.array([1,2,3,4,5])\n",
        "\n",
        "print(a)\n",
        "print(type(a))"
      ],
      "execution_count": 46,
      "outputs": [
        {
          "output_type": "stream",
          "text": [
            "[1 2 3 4 5]\n",
            "<class 'numpy.ndarray'>\n"
          ],
          "name": "stdout"
        }
      ]
    },
    {
      "cell_type": "code",
      "metadata": {
        "id": "qfVpwW7RF2YY",
        "outputId": "7bd006eb-65a7-4c83-fbf3-bf005703d893",
        "colab": {
          "base_uri": "https://localhost:8080/"
        }
      },
      "source": [
        "b = np.array([[1,2,3],[4,5,6]])\n",
        "print(b)"
      ],
      "execution_count": 47,
      "outputs": [
        {
          "output_type": "stream",
          "text": [
            "[[1 2 3]\n",
            " [4 5 6]]\n"
          ],
          "name": "stdout"
        }
      ]
    },
    {
      "cell_type": "code",
      "metadata": {
        "id": "IFdXzHHnGAVZ",
        "outputId": "3b5f202c-6d84-4408-9161-d3f153e16d14",
        "colab": {
          "base_uri": "https://localhost:8080/"
        }
      },
      "source": [
        "print(np.zeros(10))\n",
        "print(np.zeros((3,2)))\n",
        "print(np.ones(2))"
      ],
      "execution_count": 50,
      "outputs": [
        {
          "output_type": "stream",
          "text": [
            "[0. 0. 0. 0. 0. 0. 0. 0. 0. 0.]\n",
            "[[0. 0.]\n",
            " [0. 0.]\n",
            " [0. 0.]]\n",
            "[1. 1.]\n"
          ],
          "name": "stdout"
        }
      ]
    },
    {
      "cell_type": "code",
      "metadata": {
        "id": "351jGiOLGowH",
        "outputId": "231fae35-cf69-49f4-d33e-0b30cfca1213",
        "colab": {
          "base_uri": "https://localhost:8080/"
        }
      },
      "source": [
        "np.arange(5)\n",
        "np.arange(2,9)\n",
        "np.arange(5,8,0.5)"
      ],
      "execution_count": 51,
      "outputs": [
        {
          "output_type": "execute_result",
          "data": {
            "text/plain": [
              "array([5. , 5.5, 6. , 6.5, 7. , 7.5])"
            ]
          },
          "metadata": {
            "tags": []
          },
          "execution_count": 51
        }
      ]
    },
    {
      "cell_type": "code",
      "metadata": {
        "id": "pZ_1NTJUHb63",
        "outputId": "296c2dda-17cf-4123-ad63-bea7b30f47dc",
        "colab": {
          "base_uri": "https://localhost:8080/"
        }
      },
      "source": [
        "a = np.array([1,2,3,4,5])\n",
        "b = a*2\n",
        "print(b)\n",
        "x = np.arange(10)\n",
        "y = 3*x + 5\n",
        "print(y)"
      ],
      "execution_count": 52,
      "outputs": [
        {
          "output_type": "stream",
          "text": [
            "[ 2  4  6  8 10]\n",
            "[ 5  8 11 14 17 20 23 26 29 32]\n"
          ],
          "name": "stdout"
        }
      ]
    },
    {
      "cell_type": "code",
      "metadata": {
        "id": "G9NYc3iyICpy",
        "outputId": "37704b9f-6aec-4247-ad2f-65bff8ddecef",
        "colab": {
          "base_uri": "https://localhost:8080/"
        }
      },
      "source": [
        "a =np.array([[1,2,3],[4,5,6]])\n",
        "print(a)\n",
        "print(a.shape)\n",
        "\n",
        "b= np.array([[1,2,3],[4,5,6],[7,8,9]])\n",
        "print(b)\n",
        "print(b.shape)"
      ],
      "execution_count": 53,
      "outputs": [
        {
          "output_type": "stream",
          "text": [
            "[[1 2 3]\n",
            " [4 5 6]]\n",
            "(2, 3)\n",
            "[[1 2 3]\n",
            " [4 5 6]\n",
            " [7 8 9]]\n",
            "(3, 3)\n"
          ],
          "name": "stdout"
        }
      ]
    },
    {
      "cell_type": "code",
      "metadata": {
        "id": "ZHtfbcbJIf_6",
        "outputId": "ba9ead49-8a6b-4685-90ef-1a20a520c7c3",
        "colab": {
          "base_uri": "https://localhost:8080/"
        }
      },
      "source": [
        "a = np.array([ [1,2,3],[4,5,6]])\n",
        "print(\"a=\",a)\n",
        "b = a.flatten()\n",
        "print(\"b=\",b)\n",
        "\n",
        "a = np.array([ [1,2,3],[4,5,6]])\n",
        "print(\"a=\",a)\n",
        "b = a.reshape(3,2)\n",
        "print(\"b=\",b)\n",
        "\n"
      ],
      "execution_count": 54,
      "outputs": [
        {
          "output_type": "stream",
          "text": [
            "a= [[1 2 3]\n",
            " [4 5 6]]\n",
            "b= [1 2 3 4 5 6]\n",
            "a= [[1 2 3]\n",
            " [4 5 6]]\n",
            "b= [[1 2]\n",
            " [3 4]\n",
            " [5 6]]\n"
          ],
          "name": "stdout"
        }
      ]
    },
    {
      "cell_type": "code",
      "metadata": {
        "id": "VYrVCesSJICE",
        "outputId": "ce9529d3-5417-44c5-b330-1df0b2c841ed",
        "colab": {
          "base_uri": "https://localhost:8080/"
        }
      },
      "source": [
        "v = np.array([[1,2,3],[4,5,6],[7,8,9]])\n",
        "a =v[0]\n",
        "print(a)\n",
        "b = v[1:]\n",
        "print(b)\n",
        "c = v[:,0]\n",
        "print(c) "
      ],
      "execution_count": 55,
      "outputs": [
        {
          "output_type": "stream",
          "text": [
            "[1 2 3]\n",
            "[[4 5 6]\n",
            " [7 8 9]]\n",
            "[1 4 7]\n"
          ],
          "name": "stdout"
        }
      ]
    }
  ]
}