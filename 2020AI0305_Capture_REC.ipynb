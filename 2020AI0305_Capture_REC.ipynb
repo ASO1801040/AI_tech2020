{
  "nbformat": 4,
  "nbformat_minor": 0,
  "metadata": {
    "colab": {
      "name": "2020AI0305-Capture-REC.ipynb",
      "provenance": [],
      "collapsed_sections": [],
      "authorship_tag": "ABX9TyPRIrjYSjwqKar3YKNBm/uF",
      "include_colab_link": true
    },
    "kernelspec": {
      "name": "python3",
      "display_name": "Python 3"
    }
  },
  "cells": [
    {
      "cell_type": "markdown",
      "metadata": {
        "id": "view-in-github",
        "colab_type": "text"
      },
      "source": [
        "<a href=\"https://colab.research.google.com/github/ASO1801040/AI_tech2020/blob/master/2020AI0305_Capture_REC.ipynb\" target=\"_parent\"><img src=\"https://colab.research.google.com/assets/colab-badge.svg\" alt=\"Open In Colab\"/></a>"
      ]
    },
    {
      "cell_type": "code",
      "metadata": {
        "id": "2FYCof9j28OI"
      },
      "source": [
        "import cv2,os\n",
        "import urllib.request as req"
      ],
      "execution_count": 1,
      "outputs": []
    },
    {
      "cell_type": "code",
      "metadata": {
        "colab": {
          "base_uri": "https://localhost:8080/"
        },
        "id": "gKKCnlL42_v0",
        "outputId": "b98cf9d2-94e8-4667-b6ee-cd20d4b314af"
      },
      "source": [
        "url =\"https://github.com/masatokg/sample_photo/raw/master/fish.mp4\"\n",
        "save_file = \"fish.mp4\"\n",
        "req.urlretrieve(url, save_file)"
      ],
      "execution_count": 2,
      "outputs": [
        {
          "output_type": "execute_result",
          "data": {
            "text/plain": [
              "('fish.mp4', <http.client.HTTPMessage at 0x7f1d7f5f2550>)"
            ]
          },
          "metadata": {
            "tags": []
          },
          "execution_count": 2
        }
      ]
    },
    {
      "cell_type": "code",
      "metadata": {
        "id": "2NGyI5_J3CEz"
      },
      "source": [
        "out_file = \"out.mp4\"\n",
        "\n",
        "cap = cv2.VideoCapture( save_file)\n",
        "fourcc = cv2.VideoWriter_fourcc(\"M\", \"P\", \"4\", \"V\")\n",
        "\n",
        "fps = 30.0"
      ],
      "execution_count": 3,
      "outputs": []
    },
    {
      "cell_type": "code",
      "metadata": {
        "id": "wMZ2RKPj3FAH"
      },
      "source": [
        "def process_img( frame ) :\n",
        "\n",
        "  frame[ : , : , 0 ] = 0; \n",
        "  frame[ : , : , 1 ] = 0; \n",
        "  return frame"
      ],
      "execution_count": 4,
      "outputs": []
    },
    {
      "cell_type": "code",
      "metadata": {
        "id": "7jfi3EXG3L4C"
      },
      "source": [
        "def open_recorder( frame ) :\n",
        "  h = len( frame ) \n",
        "  w = len( frame[0] ) \n",
        "  size = (w, h) \n",
        "  \n",
        "  recorder = cv2.VideoWriter( out_file, fourcc, fps, size, isColor=True)\n",
        "  return recorder"
      ],
      "execution_count": 5,
      "outputs": []
    },
    {
      "cell_type": "code",
      "metadata": {
        "id": "42PQYVh-3SYX"
      },
      "source": [
        "is_ok, frame = cap.read()\n",
        "\n",
        "if is_ok :\n",
        "\n",
        "  recorder = open_recorder( frame )\n",
        "\n",
        "  while True :\n",
        "\n",
        "    frame = process_img( frame )\n",
        "    recorder.write( frame )\n",
        "    is_ok, frame = cap.read()\n",
        "    if is_ok is not True :\n",
        "      break\n",
        "\n",
        "else:\n",
        "  print(\"there is no frame.\")\n"
      ],
      "execution_count": 6,
      "outputs": []
    },
    {
      "cell_type": "code",
      "metadata": {
        "colab": {
          "base_uri": "https://localhost:8080/",
          "height": 34
        },
        "id": "W5bicvbo3fqm",
        "outputId": "58f1cc96-b7a3-47fe-a8ea-3cedb4cccba5"
      },
      "source": [
        "recorder.release()\n",
        "cap.release()\n",
        "print(\"capture and recording end.\")\n",
        "\n",
        "from google.colab import files\n",
        "files.download( out_file )"
      ],
      "execution_count": 7,
      "outputs": [
        {
          "output_type": "stream",
          "text": [
            "capture and recording end.\n"
          ],
          "name": "stdout"
        },
        {
          "output_type": "display_data",
          "data": {
            "application/javascript": [
              "\n",
              "    async function download(id, filename, size) {\n",
              "      if (!google.colab.kernel.accessAllowed) {\n",
              "        return;\n",
              "      }\n",
              "      const div = document.createElement('div');\n",
              "      const label = document.createElement('label');\n",
              "      label.textContent = `Downloading \"${filename}\": `;\n",
              "      div.appendChild(label);\n",
              "      const progress = document.createElement('progress');\n",
              "      progress.max = size;\n",
              "      div.appendChild(progress);\n",
              "      document.body.appendChild(div);\n",
              "\n",
              "      const buffers = [];\n",
              "      let downloaded = 0;\n",
              "\n",
              "      const channel = await google.colab.kernel.comms.open(id);\n",
              "      // Send a message to notify the kernel that we're ready.\n",
              "      channel.send({})\n",
              "\n",
              "      for await (const message of channel.messages) {\n",
              "        // Send a message to notify the kernel that we're ready.\n",
              "        channel.send({})\n",
              "        if (message.buffers) {\n",
              "          for (const buffer of message.buffers) {\n",
              "            buffers.push(buffer);\n",
              "            downloaded += buffer.byteLength;\n",
              "            progress.value = downloaded;\n",
              "          }\n",
              "        }\n",
              "      }\n",
              "      const blob = new Blob(buffers, {type: 'application/binary'});\n",
              "      const a = document.createElement('a');\n",
              "      a.href = window.URL.createObjectURL(blob);\n",
              "      a.download = filename;\n",
              "      div.appendChild(a);\n",
              "      a.click();\n",
              "      div.remove();\n",
              "    }\n",
              "  "
            ],
            "text/plain": [
              "<IPython.core.display.Javascript object>"
            ]
          },
          "metadata": {
            "tags": []
          }
        },
        {
          "output_type": "display_data",
          "data": {
            "application/javascript": [
              "download(\"download_f8b1fc12-2e45-4652-85f3-688988ba0441\", \"out.mp4\", 11128507)"
            ],
            "text/plain": [
              "<IPython.core.display.Javascript object>"
            ]
          },
          "metadata": {
            "tags": []
          }
        }
      ]
    }
  ]
}