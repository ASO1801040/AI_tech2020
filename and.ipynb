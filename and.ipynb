{
  "nbformat": 4,
  "nbformat_minor": 0,
  "metadata": {
    "colab": {
      "name": "and.ipynb",
      "provenance": [],
      "collapsed_sections": [],
      "authorship_tag": "ABX9TyMc2G4BD1yy37eJbqwIRtV2"
    },
    "kernelspec": {
      "name": "python3",
      "display_name": "Python 3"
    }
  },
  "cells": [
    {
      "cell_type": "markdown",
      "metadata": {
        "id": "YU5WVwuaqhzw"
      },
      "source": [
        "### AND演算をモデルに学ばせる (LinearSVC)\n"
      ]
    },
    {
      "cell_type": "code",
      "metadata": {
        "id": "cMO8tOBvqfu9"
      },
      "source": [
        "#scikit-learnを使うため、インポートする\n",
        "from sklearn.svm import LinearSVC\n",
        "from sklearn.metrics import accuracy_score #結果を表示するためのオブジェクト"
      ],
      "execution_count": null,
      "outputs": []
    },
    {
      "cell_type": "markdown",
      "metadata": {
        "id": "x15nCmGYrcHt"
      },
      "source": [
        "### 学習のためのデータを用意する"
      ]
    },
    {
      "cell_type": "code",
      "metadata": {
        "id": "ZLjAab9YrpjI"
      },
      "source": [
        "#入力値を表すデータ\n",
        "#入力x,入力y\n",
        "learn_data = [ [0,0], [1,0], [0,1], [1,1]]\n",
        "# (XとYのand)結果\n",
        "learn_label = [ 0, 0, 0, 1]"
      ],
      "execution_count": null,
      "outputs": []
    },
    {
      "cell_type": "markdown",
      "metadata": {
        "id": "qeWx23IStAPa"
      },
      "source": [
        "### アルゴリズムのインスタンスを宣言します"
      ]
    },
    {
      "cell_type": "code",
      "metadata": {
        "id": "ksrrA2nhs-eD"
      },
      "source": [
        "# 線形SVCのインスタンスを生成\n",
        "clf = LinearSVC()"
      ],
      "execution_count": null,
      "outputs": []
    },
    {
      "cell_type": "markdown",
      "metadata": {
        "id": "obLASvuGtY7u"
      },
      "source": [
        "###モデルに学習させる"
      ]
    },
    {
      "cell_type": "code",
      "metadata": {
        "id": "qafKh4getXyH",
        "outputId": "1017b71c-3b19-4150-fc31-0eb0d7af2c93",
        "colab": {
          "base_uri": "https://localhost:8080/",
          "height": 85
        }
      },
      "source": [
        "clf.fit(learn_data, learn_label)"
      ],
      "execution_count": null,
      "outputs": [
        {
          "output_type": "execute_result",
          "data": {
            "text/plain": [
              "LinearSVC(C=1.0, class_weight=None, dual=True, fit_intercept=True,\n",
              "          intercept_scaling=1, loss='squared_hinge', max_iter=1000,\n",
              "          multi_class='ovr', penalty='l2', random_state=None, tol=0.0001,\n",
              "          verbose=0)"
            ]
          },
          "metadata": {
            "tags": []
          },
          "execution_count": 39
        }
      ]
    },
    {
      "cell_type": "markdown",
      "metadata": {
        "id": "yiJmV-c6ubn-"
      },
      "source": [
        "###モデルがちゃんと学習できたか、テストデータで予測させてみる"
      ]
    },
    {
      "cell_type": "code",
      "metadata": {
        "id": "8OQmAofetcnN",
        "outputId": "d9ce5908-5c66-4c13-810c-9b5e3d290e0e",
        "colab": {
          "base_uri": "https://localhost:8080/",
          "height": 68
        }
      },
      "source": [
        "#　予測用テストデータ（検証用データ）を作る\n",
        "test_data =  [ [0,0], [1,0], [0,1], [1,1]]\n",
        "#　モデルにテストデータを回答させる（予想）予想メソッドはpredict\n",
        "test_label = clf.predict(test_data)\n",
        "print(test_label)\n",
        "# 予測結果の評価\n",
        "print(test_data, \"の予測結果\", test_label)\n",
        "# 結果の精度を表示させる\n",
        "print(\"正解率:\", accuracy_score([0,0,0,1],test_label))"
      ],
      "execution_count": null,
      "outputs": [
        {
          "output_type": "stream",
          "text": [
            "[0 0 0 1]\n",
            "[[0, 0], [1, 0], [0, 1], [1, 1]] の予測結果 [0 0 0 1]\n",
            "正解率: 1.0\n"
          ],
          "name": "stdout"
        }
      ]
    },
    {
      "cell_type": "markdown",
      "metadata": {
        "id": "_DT3z-GU1eEA"
      },
      "source": [
        "###XOR演算を実装する"
      ]
    },
    {
      "cell_type": "code",
      "metadata": {
        "id": "q40iVgka1dlH"
      },
      "source": [
        "learn_data = [[0,0],[0,1],[1,0],[1,1]]\n",
        "\n",
        "learn_label = [0,1,1,0]"
      ],
      "execution_count": null,
      "outputs": []
    },
    {
      "cell_type": "code",
      "metadata": {
        "id": "I7Zxxlxz4tg5",
        "outputId": "aa334994-19e2-4fb4-ec6e-9b9fc5595493",
        "colab": {
          "base_uri": "https://localhost:8080/",
          "height": 85
        }
      },
      "source": [
        "clf = LinearSVC()\n",
        "\n",
        "clf.fit(learn_data,learn_label)"
      ],
      "execution_count": null,
      "outputs": [
        {
          "output_type": "execute_result",
          "data": {
            "text/plain": [
              "LinearSVC(C=1.0, class_weight=None, dual=True, fit_intercept=True,\n",
              "          intercept_scaling=1, loss='squared_hinge', max_iter=1000,\n",
              "          multi_class='ovr', penalty='l2', random_state=None, tol=0.0001,\n",
              "          verbose=0)"
            ]
          },
          "metadata": {
            "tags": []
          },
          "execution_count": 42
        }
      ]
    },
    {
      "cell_type": "code",
      "metadata": {
        "id": "6eQJlLjO44VY"
      },
      "source": [
        "test_data =  [[0,0],[0,1],[1,0],[1,1]]\n",
        "test_label = clf.predict(test_data)"
      ],
      "execution_count": null,
      "outputs": []
    },
    {
      "cell_type": "code",
      "metadata": {
        "id": "PoQNuuDJ5JYr",
        "outputId": "248002c6-a2a1-4ae1-8cb8-f50312bac58e",
        "colab": {
          "base_uri": "https://localhost:8080/",
          "height": 51
        }
      },
      "source": [
        "print(test_data,\"の予想結果\", test_label)\n",
        "print(\"正解率 =\", accuracy_score([0,1,1,0],test_label))"
      ],
      "execution_count": null,
      "outputs": [
        {
          "output_type": "stream",
          "text": [
            "[[0, 0], [0, 1], [1, 0], [1, 1]] の予想結果 [0 0 0 0]\n",
            "正解率 = 0.5\n"
          ],
          "name": "stdout"
        }
      ]
    },
    {
      "cell_type": "markdown",
      "metadata": {
        "id": "L3_D4cKIv_a_"
      },
      "source": [
        "###K近傍法でXOR演算を実装する"
      ]
    },
    {
      "cell_type": "code",
      "metadata": {
        "id": "-0vLBiGcvZQy"
      },
      "source": [
        "# K近傍法のアルゴリズムのクラスをimport\n",
        "from sklearn.neighbors import KNeighborsClassifier\n"
      ],
      "execution_count": null,
      "outputs": []
    },
    {
      "cell_type": "code",
      "metadata": {
        "id": "E_P2jG_KwlMD"
      },
      "source": [
        "#　学習モデルに変数clfをk近傍法アルゴリズムのインスタンスで上書き\n",
        "clf = KNeighborsClassifier(n_neighbors=1)\n"
      ],
      "execution_count": null,
      "outputs": []
    },
    {
      "cell_type": "code",
      "metadata": {
        "id": "CfoJHsjOxBrR",
        "outputId": "457735ac-d3bd-4b8e-9dcf-3b7d200b0dab",
        "colab": {
          "base_uri": "https://localhost:8080/",
          "height": 68
        }
      },
      "source": [
        "# 学習用データ(learn_data)と結果様正解データ(learn_label)を使って学習\n",
        "clf.fit(learn_data, learn_label)"
      ],
      "execution_count": null,
      "outputs": [
        {
          "output_type": "execute_result",
          "data": {
            "text/plain": [
              "KNeighborsClassifier(algorithm='auto', leaf_size=30, metric='minkowski',\n",
              "                     metric_params=None, n_jobs=None, n_neighbors=1, p=2,\n",
              "                     weights='uniform')"
            ]
          },
          "metadata": {
            "tags": []
          },
          "execution_count": 47
        }
      ]
    },
    {
      "cell_type": "markdown",
      "metadata": {
        "id": "pH_Jk6zyyfuY"
      },
      "source": [
        "###テスト検証用データで推論をする"
      ]
    },
    {
      "cell_type": "code",
      "metadata": {
        "id": "x4nvJWFHyswe",
        "outputId": "a3c1a08e-5de4-4e22-bc07-e753b6325a27",
        "colab": {
          "base_uri": "https://localhost:8080/",
          "height": 51
        }
      },
      "source": [
        "#　テスト検証用データ(test_data)と答え合わせ用の正解データ([0,1,1,0])\n",
        "test_label = clf.predict(test_data)\n",
        "print(test_data,\"予想（推論）結果\",test_label)\n",
        "print(\"正解率　＝\", accuracy_score([0,1,1,0], test_label))\n"
      ],
      "execution_count": null,
      "outputs": [
        {
          "output_type": "stream",
          "text": [
            "[[0, 0], [0, 1], [1, 0], [1, 1]] 予想（推論）結果 [0 1 1 0]\n",
            "正解率　＝ 1.0\n"
          ],
          "name": "stdout"
        }
      ]
    }
  ]
}