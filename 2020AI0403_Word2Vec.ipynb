{
  "nbformat": 4,
  "nbformat_minor": 0,
  "metadata": {
    "colab": {
      "name": "2020AI0403_Word2Vec.ipynb",
      "provenance": [],
      "authorship_tag": "ABX9TyM8aiCgQH3QJ0uLUNuhWzw9",
      "include_colab_link": true
    },
    "kernelspec": {
      "name": "python3",
      "display_name": "Python 3"
    }
  },
  "cells": [
    {
      "cell_type": "markdown",
      "metadata": {
        "id": "view-in-github",
        "colab_type": "text"
      },
      "source": [
        "<a href=\"https://colab.research.google.com/github/ASO1801040/AI_tech2020/blob/master/2020AI0403_Word2Vec.ipynb\" target=\"_parent\"><img src=\"https://colab.research.google.com/assets/colab-badge.svg\" alt=\"Open In Colab\"/></a>"
      ]
    },
    {
      "cell_type": "code",
      "metadata": {
        "colab": {
          "base_uri": "https://localhost:8080/"
        },
        "id": "uIyPEw_bM5EY",
        "outputId": "f786f36a-53a5-4285-9ecb-7251a8cc37da"
      },
      "source": [
        "import urllib.request as req\n",
        "\n",
        "url = \"https://www.dropbox.com/s/8kv39qpvg965i06/word2vec.gensim.zip?dl=1\"\n",
        "save_file = \"word2vec.gensim.model.zip\"\n",
        "req.urlretrieve(url, save_file)\n",
        "\n",
        "!unzip -o -q \"word2vec.gensim.model.zip\"\n",
        "print(\"word2vec.zip解凍\")"
      ],
      "execution_count": 1,
      "outputs": [
        {
          "output_type": "stream",
          "text": [
            "word2vec.zip解凍\n"
          ],
          "name": "stdout"
        }
      ]
    },
    {
      "cell_type": "code",
      "metadata": {
        "id": "JW1bePmdNBWO"
      },
      "source": [
        "from gensim.models import Word2Vec\n",
        "model = Word2Vec.load(\"/content/word2vec.gensim.model\")"
      ],
      "execution_count": 2,
      "outputs": []
    },
    {
      "cell_type": "code",
      "metadata": {
        "colab": {
          "base_uri": "https://localhost:8080/"
        },
        "id": "6DmOH5RINC-W",
        "outputId": "f7cbb932-0ba6-460c-921d-cde1785b125b"
      },
      "source": [
        "results = model.wv.most_similar(positive=['日本'],topn=5)\n",
        "for result in results:\n",
        "  print(result)"
      ],
      "execution_count": 3,
      "outputs": [
        {
          "output_type": "stream",
          "text": [
            "('韓国', 0.7088127732276917)\n",
            "('台湾', 0.6461570262908936)\n",
            "('日本国内', 0.6403890252113342)\n",
            "('欧米', 0.6350583434104919)\n",
            "('日本国外', 0.6200590133666992)\n"
          ],
          "name": "stdout"
        }
      ]
    },
    {
      "cell_type": "code",
      "metadata": {
        "colab": {
          "base_uri": "https://localhost:8080/"
        },
        "id": "EqcRveYENMF9",
        "outputId": "7f36d1e9-adde-4fef-d368-189acd0f6643"
      },
      "source": [
        "print(\"-----\")\n",
        "print(\"国王\")\n",
        "results = model.wv.most_similar(\"国王\")\n",
        "for result in results:\n",
        "  print(result)\n",
        "\n",
        "print(\"-----\")\n",
        "print(\"王\")\n",
        "results = model.wv.most_similar(\"王\")\n",
        "for result in results:\n",
        "  print(result)\n",
        "\n",
        "print(\"-----\")\n",
        "print(\"王様\")\n",
        "results = model.wv.most_similar(\"王様\")\n",
        "for result in results:\n",
        "  print(result)\n",
        "\n",
        "print(\"-----\")\n",
        "print(\"王様+女性\")\n",
        "results = model.wv.most_similar(positive=[\"王様\",\"女性\"])\n",
        "for result in results:\n",
        "  print(result)\n",
        "\n",
        "print(\"-----\")\n",
        "print(\"王様+女性-男性\")\n",
        "results = model.wv.most_similar(positive=[\"王様\",\"女性\"],negative=[\"男性\"])\n",
        "for result in results:\n",
        "  print(result)"
      ],
      "execution_count": 4,
      "outputs": [
        {
          "output_type": "stream",
          "text": [
            "-----\n",
            "国王\n",
            "('ツァーリ', 0.9053068161010742)\n",
            "('スルタン', 0.8805959820747375)\n",
            "('皇帝', 0.874972939491272)\n",
            "('スルターン', 0.8520403504371643)\n",
            "('女帝', 0.8492650389671326)\n",
            "('ジェームズ2世', 0.837557315826416)\n",
            "('王太子', 0.8365861177444458)\n",
            "('摂政', 0.8361721634864807)\n",
            "('イギリス国王', 0.8348546028137207)\n",
            "('君主', 0.8336648941040039)\n",
            "-----\n",
            "王\n",
            "('大王', 0.855927586555481)\n",
            "('皇帝', 0.8524040579795837)\n",
            "('先王', 0.8425959348678589)\n",
            "('君主', 0.824544370174408)\n",
            "('ローマ皇帝', 0.8206972479820251)\n",
            "('西ローマ皇帝', 0.8157353401184082)\n",
            "('王シ', 0.8076152205467224)\n",
            "('ファラオ', 0.8029801845550537)\n",
            "('女帝', 0.8029454350471497)\n",
            "('聖王', 0.7952451705932617)\n",
            "-----\n",
            "王様\n",
            "('野獣', 0.8659248352050781)\n",
            "('お姫様', 0.8607541918754578)\n",
            "('魔女', 0.8333204388618469)\n",
            "('花嫁', 0.830689013004303)\n",
            "('乙女', 0.8267987966537476)\n",
            "('キューピッド', 0.8178128004074097)\n",
            "('狩人', 0.8152097463607788)\n",
            "('父さん', 0.8097778558731079)\n",
            "('パパ', 0.8046603798866272)\n",
            "('帽子屋', 0.8032904863357544)\n",
            "-----\n",
            "王様+女性\n",
            "('少女', 0.8220486044883728)\n",
            "('彼女ら', 0.8072021007537842)\n",
            "('美女', 0.8049534559249878)\n",
            "('美少年', 0.8014258146286011)\n",
            "('お姫様', 0.798124372959137)\n",
            "('メイド', 0.7976080179214478)\n",
            "('彼女たち', 0.7953735589981079)\n",
            "('花嫁', 0.7931262254714966)\n",
            "('野獣', 0.7845075130462646)\n",
            "('貴婦人', 0.7812718152999878)\n",
            "-----\n",
            "王様+女性-男性\n",
            "('お姫様', 0.8531287312507629)\n",
            "('花嫁', 0.839175820350647)\n",
            "('野獣', 0.8315544128417969)\n",
            "('魔女', 0.8298223614692688)\n",
            "('乙女', 0.8235582709312439)\n",
            "('愛する人', 0.800349235534668)\n",
            "('天国', 0.7905834913253784)\n",
            "('悪魔', 0.7898154854774475)\n",
            "('キューピッド', 0.7896510362625122)\n",
            "('魔法使い', 0.788610577583313)\n"
          ],
          "name": "stdout"
        }
      ]
    },
    {
      "cell_type": "code",
      "metadata": {
        "colab": {
          "base_uri": "https://localhost:8080/"
        },
        "id": "KNNycOrXNROz",
        "outputId": "e5bc64f7-9a55-4dab-bcae-33cbc870cd30"
      },
      "source": [
        "results = model.wv.most_similar(positive=[\"至急\"])\n",
        "\n",
        "for result in results:\n",
        "  print(result)\n",
        "\n",
        "results = model.wv.most_similar(positive=[\"急ぎ\"])\n",
        "\n",
        "for result in results:\n",
        "  print(result)"
      ],
      "execution_count": 5,
      "outputs": [
        {
          "output_type": "stream",
          "text": [
            "('急ぎ', 0.7244844436645508)\n",
            "('無電', 0.7031903266906738)\n",
            "('雄洋', 0.6877992153167725)\n",
            "('栄丸', 0.6654155850410461)\n",
            "('比叡', 0.6648874878883362)\n",
            "('信濃丸', 0.6561662554740906)\n",
            "('富士山丸', 0.6513621211051941)\n",
            "('退艦', 0.6435442566871643)\n",
            "('停船', 0.6430754065513611)\n",
            "('薄雲', 0.6411623358726501)\n",
            "('やむなく', 0.789318859577179)\n",
            "('ひそか', 0.7474408745765686)\n",
            "('ただちに', 0.7438754439353943)\n",
            "('ひとまず', 0.7431749105453491)\n",
            "('やむを得ず', 0.7409578561782837)\n",
            "('急ぐ', 0.7246897220611572)\n",
            "('至急', 0.7244844436645508)\n",
            "('すぐさま', 0.7139618396759033)\n",
            "('敗報', 0.7133142352104187)\n",
            "('渋る', 0.7113310098648071)\n"
          ],
          "name": "stdout"
        }
      ]
    },
    {
      "cell_type": "code",
      "metadata": {
        "id": "cSWz__pdNbeN"
      },
      "source": [
        "!apt-get -q -y install sudo file mecab libmecab-dev mecab-ipadic-utf8 git curl python-mecab > /dev/null\n",
        "!pip install mecab-python3 > /dev/null\n",
        "\n",
        "!ln -s /etc/mecabrc /usr/local/etc/mecabrc"
      ],
      "execution_count": 6,
      "outputs": []
    },
    {
      "cell_type": "code",
      "metadata": {
        "colab": {
          "base_uri": "https://localhost:8080/"
        },
        "id": "UHeBMblSNgYa",
        "outputId": "f98826f4-0dfd-4634-e2e2-158fb1b68a2a"
      },
      "source": [
        "!git clone --depth 1 http://github.com/neologd/mecab-ipadic-neologd.git > /dev/null\n",
        "!echo yes | mecab-ipadic-neologd/bin/install-mecab-ipadic-neologd -n > /dev/null 2>&1"
      ],
      "execution_count": 7,
      "outputs": [
        {
          "output_type": "stream",
          "text": [
            "Cloning into 'mecab-ipadic-neologd'...\n",
            "warning: redirecting to https://github.com/neologd/mecab-ipadic-neologd.git/\n",
            "remote: Enumerating objects: 75, done.\u001b[K\n",
            "remote: Counting objects: 100% (75/75), done.\u001b[K\n",
            "remote: Compressing objects: 100% (74/74), done.\u001b[K\n",
            "remote: Total 75 (delta 5), reused 54 (delta 0), pack-reused 0\u001b[K\n",
            "Unpacking objects: 100% (75/75), done.\n"
          ],
          "name": "stdout"
        }
      ]
    },
    {
      "cell_type": "code",
      "metadata": {
        "colab": {
          "base_uri": "https://localhost:8080/"
        },
        "id": "zdZbb4wNNiKT",
        "outputId": "25428959-f666-464b-d3be-bc96d31a016a"
      },
      "source": [
        "!echo `mecab-config --dicdir`\"/mecab-ipadic-neologd\""
      ],
      "execution_count": 8,
      "outputs": [
        {
          "output_type": "stream",
          "text": [
            "/usr/lib/x86_64-linux-gnu/mecab/dic/mecab-ipadic-neologd\n"
          ],
          "name": "stdout"
        }
      ]
    },
    {
      "cell_type": "code",
      "metadata": {
        "id": "6v_-ovy-NnWT"
      },
      "source": [
        "import MeCab\n",
        "path_neologd = \"/usr/lib/x86_64-linux-gnu/mecab/dic/mecab-ipadic-neologd\"\n",
        "tagger = MeCab.Tagger(\"-d\" + path_neologd)"
      ],
      "execution_count": 9,
      "outputs": []
    },
    {
      "cell_type": "code",
      "metadata": {
        "id": "ALQ3XshXNqcG"
      },
      "source": [
        "def print_emargency(text, keyword):  \n",
        "  print(\"target String:\", text, \"keyword:\", keyword)\n",
        "  node = tagger.parseToNode(text)\n",
        "  \n",
        "  while node is not None:\n",
        "    fields = node.feature.split(\",\")\n",
        "    if fields[0] == \"名詞\" or fields[0] == \"動詞\" or fields[0] == \"形容詞\":\n",
        "      print(model.wv.similarity(node.surface, keyword), node.surface)\n",
        "    node = node.next"
      ],
      "execution_count": 10,
      "outputs": []
    },
    {
      "cell_type": "code",
      "metadata": {
        "colab": {
          "base_uri": "https://localhost:8080/"
        },
        "id": "wgUw3xTDN3Bv",
        "outputId": "c14c41bb-dd05-4f00-d935-308accee0f2e"
      },
      "source": [
        "print_emargency(\"PCが起動しなくなりました。急いでいます。\", \"至急\")\n",
        "print_emargency(\"使い方がよくわかりません。\", \"至急\")"
      ],
      "execution_count": 11,
      "outputs": [
        {
          "output_type": "stream",
          "text": [
            "target String: PCが起動しなくなりました。急いでいます。 keyword: 至急\n",
            "-0.09927091 PC\n",
            "0.118230164 起動\n",
            "0.044207577 し\n",
            "0.037055567 なり\n",
            "0.3655378 急い\n",
            "-0.06583241 い\n",
            "target String: 使い方がよくわかりません。 keyword: 至急\n",
            "-0.0030400325 使い方\n",
            "0.058717843 わかり\n"
          ],
          "name": "stdout"
        }
      ]
    },
    {
      "cell_type": "code",
      "metadata": {
        "colab": {
          "base_uri": "https://localhost:8080/"
        },
        "id": "3rEaypVPN6r0",
        "outputId": "411d502e-caa7-4cea-b195-cb396da125e3"
      },
      "source": [
        "print_emargency(\"明日は晴れですが\" , \"天気\")\n",
        "print_emargency(\"おなかがすきました\", \"天気\")"
      ],
      "execution_count": 12,
      "outputs": [
        {
          "output_type": "stream",
          "text": [
            "target String: 明日は晴れですが keyword: 天気\n",
            "0.42330882 明日\n",
            "0.6514369 晴れ\n",
            "target String: おなかがすきました keyword: 天気\n",
            "0.25886172 おなか\n",
            "0.27183193 すき\n"
          ],
          "name": "stdout"
        }
      ]
    }
  ]
}