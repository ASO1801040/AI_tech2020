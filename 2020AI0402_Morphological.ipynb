{
  "nbformat": 4,
  "nbformat_minor": 0,
  "metadata": {
    "colab": {
      "name": "2020AI0402_Morphological.ipynb",
      "provenance": [],
      "authorship_tag": "ABX9TyMcztKG8SUUJ43XyKVIxFRn",
      "include_colab_link": true
    },
    "kernelspec": {
      "name": "python3",
      "display_name": "Python 3"
    }
  },
  "cells": [
    {
      "cell_type": "markdown",
      "metadata": {
        "id": "view-in-github",
        "colab_type": "text"
      },
      "source": [
        "<a href=\"https://colab.research.google.com/github/ASO1801040/AI_tech2020/blob/master/2020AI0402_Morphological.ipynb\" target=\"_parent\"><img src=\"https://colab.research.google.com/assets/colab-badge.svg\" alt=\"Open In Colab\"/></a>"
      ]
    },
    {
      "cell_type": "code",
      "metadata": {
        "id": "suV9_7zeEiMd"
      },
      "source": [
        "!apt-get -q -y install sudo file mecab libmecab-dev mecab-ipadic-utf8 git curl python-mecab > /dev/null\n",
        "!pip install mecab-python3 > /dev/null\n",
        "\n",
        "!ln -s /etc/mecabrc /usr/local/etc/mecabrc"
      ],
      "execution_count": 1,
      "outputs": []
    },
    {
      "cell_type": "code",
      "metadata": {
        "colab": {
          "base_uri": "https://localhost:8080/"
        },
        "id": "GzamGLlXKYVl",
        "outputId": "1c09de93-ead8-4ef3-f700-8fad7f371b89"
      },
      "source": [
        "import MeCab\n",
        "tagger = MeCab.Tagger()\n",
        "\n",
        "result = tagger.parse(\"メイが恋ダンスを踊っている。\")\n",
        "print(result)"
      ],
      "execution_count": 2,
      "outputs": [
        {
          "output_type": "stream",
          "text": [
            "メイ\t名詞,一般,*,*,*,*,*\n",
            "が\t助詞,格助詞,一般,*,*,*,が,ガ,ガ\n",
            "恋\t名詞,一般,*,*,*,*,恋,コイ,コイ\n",
            "ダンス\t名詞,サ変接続,*,*,*,*,ダンス,ダンス,ダンス\n",
            "を\t助詞,格助詞,一般,*,*,*,を,ヲ,ヲ\n",
            "踊っ\t動詞,自立,*,*,五段・ラ行,連用タ接続,踊る,オドッ,オドッ\n",
            "て\t助詞,接続助詞,*,*,*,*,て,テ,テ\n",
            "いる\t動詞,非自立,*,*,一段,基本形,いる,イル,イル\n",
            "。\t記号,句点,*,*,*,*,。,。,。\n",
            "EOS\n",
            "\n"
          ],
          "name": "stdout"
        }
      ]
    },
    {
      "cell_type": "code",
      "metadata": {
        "colab": {
          "base_uri": "https://localhost:8080/"
        },
        "id": "HX1sWOJKMzhZ",
        "outputId": "f8ebe06c-f706-45cd-f6a7-c40e4118ad9a"
      },
      "source": [
        "!git clone --depth 1 https://github.com/neologd/mecab-ipadic-neologd.git > /dev/null\n",
        "\n",
        "!echo yes | mecab-ipadic-neologd/bin/install-mecab-ipadic-neologd -n > /dev/null 2>&1"
      ],
      "execution_count": 3,
      "outputs": [
        {
          "output_type": "stream",
          "text": [
            "Cloning into 'mecab-ipadic-neologd'...\n",
            "remote: Enumerating objects: 75, done.\u001b[K\n",
            "remote: Counting objects: 100% (75/75), done.\u001b[K\n",
            "remote: Compressing objects: 100% (74/74), done.\u001b[K\n",
            "remote: Total 75 (delta 5), reused 54 (delta 0), pack-reused 0\u001b[K\n",
            "Unpacking objects: 100% (75/75), done.\n"
          ],
          "name": "stdout"
        }
      ]
    },
    {
      "cell_type": "code",
      "metadata": {
        "id": "AT5P-wmGgGtW",
        "colab": {
          "base_uri": "https://localhost:8080/"
        },
        "outputId": "487f2079-8a09-4153-e9a1-ee734d501903"
      },
      "source": [
        "!echo `mecab-config --dicdir`\"/mecab-ipadic-neologd\""
      ],
      "execution_count": 4,
      "outputs": [
        {
          "output_type": "stream",
          "text": [
            "/usr/lib/x86_64-linux-gnu/mecab/dic/mecab-ipadic-neologd\n"
          ],
          "name": "stdout"
        }
      ]
    },
    {
      "cell_type": "code",
      "metadata": {
        "id": "ybPcShYNgJGs",
        "colab": {
          "base_uri": "https://localhost:8080/"
        },
        "outputId": "38bb7cc6-ca20-4771-ae91-5c75e07f19c0"
      },
      "source": [
        "import MeCab\n",
        "\n",
        "path_neologd = \"/usr/lib/x86_64-linux-gnu/mecab/dic/mecab-ipadic-neologd\"\n",
        "tagger = MeCab.Tagger(\"-d\" + path_neologd)\n",
        "\n",
        "result = tagger.parse(\"メイが恋ダンスを踊っている。\")\n",
        "\n",
        "print(result)"
      ],
      "execution_count": 5,
      "outputs": [
        {
          "output_type": "stream",
          "text": [
            "メイ\t名詞,固有名詞,人名,一般,*,*,M.A.Y,メイ,メイ\n",
            "が\t助詞,格助詞,一般,*,*,*,が,ガ,ガ\n",
            "恋ダンス\t名詞,固有名詞,一般,*,*,*,恋ダンス,コイダンス,コイダンス\n",
            "を\t助詞,格助詞,一般,*,*,*,を,ヲ,ヲ\n",
            "踊っ\t動詞,自立,*,*,五段・ラ行,連用タ接続,踊る,オドッ,オドッ\n",
            "て\t助詞,接続助詞,*,*,*,*,て,テ,テ\n",
            "いる\t動詞,非自立,*,*,一段,基本形,いる,イル,イル\n",
            "。\t記号,句点,*,*,*,*,。,。,。\n",
            "EOS\n",
            "\n"
          ],
          "name": "stdout"
        }
      ]
    },
    {
      "cell_type": "code",
      "metadata": {
        "id": "_wzjpqEvgPfB",
        "colab": {
          "base_uri": "https://localhost:8080/"
        },
        "outputId": "e182c819-8e85-4c45-bcff-0cbff6e474c6"
      },
      "source": [
        "import MeCab\n",
        "path_neologd = \"/usr/lib/x86_64-linux-gnu/mecab/dic/mecab-ipadic-neologd\"\n",
        "tagger = MeCab.Tagger(\"-d\" + path_neologd)\n",
        "node = tagger.parseToNode(\"メイが恋ダンスを踊っている。\")\n",
        "\n",
        "print( node )\n",
        "\n",
        "result = [] \n",
        "\n",
        "while node is not None:\n",
        "  hinshi = node.feature.split(\",\")[0]\n",
        "  if hinshi in [\"名詞\"]:\n",
        "    result.append(node.surface)\n",
        "  elif hinshi in [\"動詞\", \"形容詞\"]:\n",
        "    result.append(node.feature.split(\",\")[6])\n",
        "  node = node.next\n",
        "print(result)"
      ],
      "execution_count": 6,
      "outputs": [
        {
          "output_type": "stream",
          "text": [
            "<Swig Object of type 'MeCab::Node *' at 0x7f4018458b90>\n",
            "['メイ', '恋ダンス', '踊る', 'いる']\n"
          ],
          "name": "stdout"
        }
      ]
    }
  ]
}